{
 "cells": [
  {
   "cell_type": "code",
   "execution_count": 1,
   "metadata": {},
   "outputs": [],
   "source": [
    "from langchain.chains import ConversationalRetrievalChain\n",
    "from langchain.vectorstores import FAISS\n",
    "from langchain.embeddings import OpenAIEmbeddings\n",
    "from langchain.text_splitter import RecursiveCharacterTextSplitter\n",
    "from langchain.document_loaders import TextLoader\n",
    "from langchain import VectorDBQA\n",
    "from langchain import ConversationChain, LLMChain, PromptTemplate\n",
    "from langchain.memory import ConversationBufferWindowMemory\n",
    "from langchain.llms import DeepInfra\n",
    "import os\n",
    "\n",
    "llm = DeepInfra(model_id=\"meta-llama/Meta-Llama-3-70B-Instruct\")\n",
    "llm.model_kwargs = {\n",
    "    \"temperature\": 0,\n",
    "    \"repetition_penalty\": 1.1,\n",
    "    \"max_new_tokens\": 25,\n",
    "    \"top_p\": 0.9,\n",
    "}\n",
    "\n",
    "# Step 1: Load data\n",
    "data_path = 'quant_boards.txt'\n",
    "loader = TextLoader(data_path)\n",
    "documents = loader.load()\n",
    "\n",
    "# Step 2: Split text into smaller chunks\n",
    "text_splitter = RecursiveCharacterTextSplitter(chunk_size=500, chunk_overlap=50)\n",
    "texts = text_splitter.split_documents(documents)\n"
   ]
  },
  {
   "cell_type": "code",
   "execution_count": 2,
   "metadata": {},
   "outputs": [
    {
     "data": {
      "text/plain": [
       "[Document(page_content='Product 1: Quant 1\\nРазмер: маленький\\nЦена: $3 299\\n**Описание:**\\nQuant 1 — это идеальный выбор для начинающих и любителей серфинга, которые хотят ощутить магию квантовых технологий на воде. Компактный размер доски идеально подходит для тех, кто ищет маневренность и легкость в управлении.\\n**Мощность двигателя:**', metadata={'source': 'quant_boards.txt'}),\n",
       " Document(page_content='**Мощность двигателя:**\\nОснащен квантовым двигателем мощностью 500 кВт, который обеспечивает плавное и стабильное движение на воде, независимо от условий. Этот двигатель позволяет новичкам почувствовать уверенность и комфорт при катании.\\n**Кому подойдет:**\\nQuant 1 создан для новичков и тех, кто предпочитает легкость и маневренность. Это отличный выбор для молодых серферов и тех, кто хочет освоить базовые навыки серфинга.\\nProduct 2: Quant 2\\nРазмер: большой\\nЦена: $7 659\\n**Описание:**', metadata={'source': 'quant_boards.txt'}),\n",
       " Document(page_content='Размер: большой\\nЦена: $7 659\\n**Описание:**\\nQuant 2 — это серфингборд для профессионалов и продвинутых пользователей, которые ищут максимальную мощность и стабильность. Его увеличенный размер обеспечивает отличную устойчивость на волнах и позволяет выполнять сложные трюки.\\n**Мощность двигателя:**', metadata={'source': 'quant_boards.txt'}),\n",
       " Document(page_content='**Мощность двигателя:**\\nСнабжен квантовым двигателем мощностью 1 200 кВт, который способен справиться с самыми суровыми условиями на воде. Этот двигатель обеспечивает невероятное ускорение и контроль, что позволяет серферу находиться на гребне волны дольше.\\n**Кому подойдет:**\\nQuant 2 идеально подходит для опытных серферов и профессионалов, которые хотят повысить свой уровень катания и испытать новые ощущения на больших волнах.\\nProduct 3: Neon Board\\nРазмер: средний\\nЦена: $49 399\\n**Описание:**', metadata={'source': 'quant_boards.txt'}),\n",
       " Document(page_content='Размер: средний\\nЦена: $49 399\\n**Описание:**\\nNeon Board — это вершина инновационных технологий в серфинге. Эта доска сочетает в себе стиль, мощь и функциональность, создавая неповторимые впечатления на воде. Этот серфингборд воплощает мечты самых требовательных профессионалов.\\n**Мощность двигателя:**', metadata={'source': 'quant_boards.txt'}),\n",
       " Document(page_content='**Мощность двигателя:**\\nОборудован квантовым двигателем мощностью 5 000 кВт, который обеспечивает непревзойденную скорость и точность. Neon Board также имеет встроенные неоновые светодиоды, которые создают впечатляющий световой эффект во время катания.\\n**Кому подойдет:**\\nNeon Board создан для элиты серферов, которым нужны передовые технологии и стиль. Эта доска отлично подойдет для шоу, соревнований и тех, кто хочет выделиться на воде своим мастерством и уникальным оборудованием.', metadata={'source': 'quant_boards.txt'}),\n",
       " Document(page_content='Эти серфингборды с квантовыми двигателями предложат незабываемые впечатления на воде и помогут каждому серферу найти свой идеальный стиль катания!', metadata={'source': 'quant_boards.txt'})]"
      ]
     },
     "execution_count": 2,
     "metadata": {},
     "output_type": "execute_result"
    }
   ],
   "source": [
    "texts"
   ]
  },
  {
   "cell_type": "code",
   "execution_count": 3,
   "metadata": {},
   "outputs": [
    {
     "ename": "ImportError",
     "evalue": "cannot import name 'Embeddings' from 'langchain.embeddings' (c:\\Users\\ataka\\anaconda3\\envs\\gspace\\Lib\\site-packages\\langchain\\embeddings\\__init__.py)",
     "output_type": "error",
     "traceback": [
      "\u001b[1;31m---------------------------------------------------------------------------\u001b[0m",
      "\u001b[1;31mImportError\u001b[0m                               Traceback (most recent call last)",
      "Cell \u001b[1;32mIn[3], line 2\u001b[0m\n\u001b[0;32m      1\u001b[0m \u001b[38;5;28;01mfrom\u001b[39;00m \u001b[38;5;21;01mlangchain\u001b[39;00m\u001b[38;5;21;01m.\u001b[39;00m\u001b[38;5;21;01mvectorstores\u001b[39;00m \u001b[38;5;28;01mimport\u001b[39;00m FAISS\n\u001b[1;32m----> 2\u001b[0m \u001b[38;5;28;01mfrom\u001b[39;00m \u001b[38;5;21;01mlangchain\u001b[39;00m\u001b[38;5;21;01m.\u001b[39;00m\u001b[38;5;21;01membeddings\u001b[39;00m \u001b[38;5;28;01mimport\u001b[39;00m Embeddings\n\u001b[0;32m      4\u001b[0m \u001b[38;5;66;03m# Создание эмбеддингов с использованием вашей модели\u001b[39;00m\n\u001b[0;32m      5\u001b[0m embeddings \u001b[38;5;241m=\u001b[39m Embeddings(llm\u001b[38;5;241m.\u001b[39mencode)\n",
      "\u001b[1;31mImportError\u001b[0m: cannot import name 'Embeddings' from 'langchain.embeddings' (c:\\Users\\ataka\\anaconda3\\envs\\gspace\\Lib\\site-packages\\langchain\\embeddings\\__init__.py)"
     ]
    }
   ],
   "source": [
    "from langchain.vectorstores import FAISS\n",
    "from langchain.embeddings import Embeddings\n",
    "\n",
    "# Создание эмбеддингов с использованием вашей модели\n",
    "embeddings = Embeddings(llm.encode)\n",
    "\n",
    "# Пример текстов\n",
    "texts = [\"Привет, как дела?\", \"Это пример текста для создания эмбеддингов.\"]\n",
    "\n",
    "# Получение эмбеддингов\n",
    "embeddings_list = embeddings.embed_documents(texts)\n",
    "\n",
    "# Создание хранилища эмбеддингов с использованием FAISS\n",
    "vector_store = FAISS(embeddings_list)\n",
    "\n",
    "# Теперь вы можете использовать этот векторный стор для поиска\n",
    "query = \"Как создать эмбеддинги?\"\n",
    "query_embedding = embeddings.embed_query(query)\n",
    "results = vector_store.similarity_search(query_embedding)\n",
    "\n",
    "print(results)"
   ]
  }
 ],
 "metadata": {
  "kernelspec": {
   "display_name": "gspace",
   "language": "python",
   "name": "python3"
  },
  "language_info": {
   "codemirror_mode": {
    "name": "ipython",
    "version": 3
   },
   "file_extension": ".py",
   "mimetype": "text/x-python",
   "name": "python",
   "nbconvert_exporter": "python",
   "pygments_lexer": "ipython3",
   "version": "3.11.9"
  }
 },
 "nbformat": 4,
 "nbformat_minor": 2
}
